{
 "cells": [
  {
   "cell_type": "markdown",
   "metadata": {},
   "source": [
    "---\n",
    "title: Exploring water conflicts in the Colorado River Basin\n",
    "subtitle: Week 2 - Discussion section \n",
    "week: 2\n",
    "image: images/Tecopa_site2.JPG\n",
    "sidebar: false\n",
    "---\n",
    "\n",
    "<!--SETUP: ask them to download the data and add data folder to gitignore -->\n",
    "\n",
    "\n",
    "This discussion section will guide you through answering questions about water-related conflicts at the Colorado River Basin using data from the [U.S. Geological Survey (USGS)](https://www.usgs.gov). In this discussion section, you will:\n",
    "\n",
    "- Practice version control using git via the terminal\n",
    "- Discuss advantages and disadvantages about different methods of data loading\n",
    "- Use core `pandas.DataFrame` methods to answer questions \n",
    "- Practice best practices for clean code\n",
    "\n",
    "## Setup\n",
    "\n",
    ":::{.callout-tip appearance=\"minimal\"}\n",
    "1. In the Taylor server, start a new JupyterLab session or access an active one.\n",
    "\n",
    "2. In the terminal, use `cd` to navigate into the `eds-220-sections` directory. Use `pwd` to verify `eds-220-sections` is your current working directory.\n",
    "\n",
    "3. Create a new Python Notebook inside your `eds-220-sections` directory and rename it to `section-2-co-basin-water-conflicts.ipynb`. \n",
    "\n",
    "4. Use the terminal to stage, commit, and push this file to the remote repository. Remember:\n",
    "    1. `git status` : check git status\n",
    "    2. `git add FILE-NAME` : stage updated file\n",
    "    3. `git status` : check git status again to confirm\n",
    "    4. `git commit -m \"Commit message\"` : commit with message\n",
    "    5. `git pull` : check local repo is up to date (best practice)\n",
    "    5. `git push` : push changes to upstream repository\n",
    "\n",
    "<p style=\"text-align: center;\">\n",
    "**CHECK IN WITH YOUR TEAM** \n",
    "</p>\n",
    "<p style=\"text-align: center;\">\n",
    "**MAKE SURE YOU'VE ALL SUCCESSFULLY SET UP YOUR NOTEBOOKS BEFORE CONTINUING**\n",
    "</p>\n",
    ":::\n",
    "\n",
    "## General directions\n",
    ":::{.callout-tip appearance=\"minimal\"}\n",
    "- Add comments in your code cells following [comments best practices](/book/appendices/comments-guidelines.qmd).\n",
    "- On each exercise, include markdown cells in between your code cells to add titles and information.\n",
    "- Indications about when to commit and push changes are included, but you are encouraged to commit and push more often. \n",
    ":::\n",
    "\n",
    "## About the data\n",
    "For these exercises we will use data about [Water Conflict and Crisis Events in the Colorado River Basin](https://www.sciencebase.gov/catalog/item/63acac09d34e92aad3ca1480) @holloman_coded_2023. This dataset is stored at [ScienceBase](https://www.sciencebase.gov/catalog/),a digital repository from the U.S. Geological Survey (USGS) created to share scientific data products and USGS resources. \n",
    "\n",
    "The dataset is a CSV file containing information about conflict or crisis around water resource management in the Colorado River Basin. \n",
    "The Colorado River Basin, inhabited by several Native American tribes for centuries, is a crucial water source in the southwestern United States and northern Mexico, supporting over 40 million people, extensive agricultural lands, and diverse ecosystems. \n",
    "Its management is vital due to the region's arid climate and the competing demands for water, leading to significant challenges related to water allocation and conservation. \n",
    "\n",
    "![Colorado River Basin.  U.S. Bureau of Reclamation. ](/discussion-sections-upcoming/images/co-river-basin.png)"
   ]
  },
  {
   "cell_type": "markdown",
   "metadata": {},
   "source": [
    "## 1. String accessor for `pandas.Series`\n",
    "\n",
    "In this session we will work with `pandas.Series` whose values are strings. This is a common scenario and `pandas` has special [string methods](https://pandas.pydata.org/docs/user_guide/text.html#string-methods) for this kind of series. These methods are accessed via the **`str` accessor**. **Accessors** provide additional functionality for working with specific kinds of data (in this case, strings). \n",
    "\n",
    "\n",
    "1. Carefully read the code below. We'll use some of it in the next exercises.\n"
   ]
  },
  {
   "cell_type": "code",
   "execution_count": 81,
   "metadata": {},
   "outputs": [
    {
     "name": "stdout",
     "output_type": "stream",
     "text": [
      "0    California; Nevada\n",
      "1               Arizona\n",
      "2                   NaN\n",
      "3        Utah; Colorado\n",
      "dtype: object\n",
      "<pandas.core.strings.accessor.StringMethods object at 0x166f07090>\n"
     ]
    },
    {
     "data": {
      "text/html": [
       "<div>\n",
       "<style scoped>\n",
       "    .dataframe tbody tr th:only-of-type {\n",
       "        vertical-align: middle;\n",
       "    }\n",
       "\n",
       "    .dataframe tbody tr th {\n",
       "        vertical-align: top;\n",
       "    }\n",
       "\n",
       "    .dataframe thead th {\n",
       "        text-align: right;\n",
       "    }\n",
       "</style>\n",
       "<table border=\"1\" class=\"dataframe\">\n",
       "  <thead>\n",
       "    <tr style=\"text-align: right;\">\n",
       "      <th></th>\n",
       "      <th>0</th>\n",
       "      <th>1</th>\n",
       "    </tr>\n",
       "  </thead>\n",
       "  <tbody>\n",
       "    <tr>\n",
       "      <th>0</th>\n",
       "      <td>California</td>\n",
       "      <td>Nevada</td>\n",
       "    </tr>\n",
       "    <tr>\n",
       "      <th>1</th>\n",
       "      <td>Arizona</td>\n",
       "      <td>None</td>\n",
       "    </tr>\n",
       "    <tr>\n",
       "      <th>2</th>\n",
       "      <td>NaN</td>\n",
       "      <td>NaN</td>\n",
       "    </tr>\n",
       "    <tr>\n",
       "      <th>3</th>\n",
       "      <td>Utah</td>\n",
       "      <td>Colorado</td>\n",
       "    </tr>\n",
       "  </tbody>\n",
       "</table>\n",
       "</div>"
      ],
      "text/plain": [
       "            0          1\n",
       "0  California     Nevada\n",
       "1     Arizona       None\n",
       "2         NaN        NaN\n",
       "3        Utah   Colorado"
      ]
     },
     "execution_count": 81,
     "metadata": {},
     "output_type": "execute_result"
    }
   ],
   "source": [
    "import pandas as pd \n",
    "import numpy as np\n",
    "\n",
    "# Example series\n",
    "s = pd.Series(['California; Nevada', 'Arizona', np.nan, 'Utah; Colorado'])\n",
    "print(s)\n",
    "\n",
    "# str accessor (doesn't do anything by itself)\n",
    "print(s.str)\n",
    "\n",
    "# Use str accessor with additional methods to perform string operations\n",
    "# .split splits strings by ';' and expands output into separate columns\n",
    "s.str.split(';', expand=True)"
   ]
  },
  {
   "cell_type": "markdown",
   "metadata": {},
   "source": [
    "\n",
    "\n",
    "<!-- 10 minutes -->\n",
    "## 2. Archive exploration\n",
    "Take some time to look through the dataset's description in the ScienceBase repository. Discuss the following questions with your team:\n",
    "\n",
    "a. Where was the data collected from?\n",
    "<!-- \n",
    "articles from newspapers describing water-related events in geographic areas in the Basin\n",
    "-->\n",
    "b. During what time frame were the observations in the dataset collected?\n",
    "<!--\n",
    "2005-2021\n",
    "-->\n",
    "c. Whta was the author's perceived value of this dataset?\n",
    "<!--\n",
    " examining crisis on a continual basis toward identification of hotspots from conflict, identifying primary stakeholders, and who experiences crises.\n",
    "-->\n",
    "e. Briefly discuss anything else that seems like relevant information.\n",
    "\n",
    "In a markdown cell, use your answers to the previous questions to add a brief description of the dataset. Include a citation, date of access, and a link to the archive. \n",
    "\n",
    "<p style=\"text-align: center;\">\n",
    "**check git status -> stage changes -> check git status -> commit with message -> pull -> push  changes**\n",
    "</p>\n",
    "\n",
    "<!-- 3 minutes -->\n",
    "## 3. Data loading\n",
    "\n",
    "a. In class we have (so far) loaded data into our workspace either by downloading the file and storing a copy of it in our computer or by accessing the file directly through a URL. With your team, discuss what are, in general, the advantages and disadvantages of these two methods of data access. \n",
    "\n",
    "b. Import the `Colorado River Basin Water Conflict Table.csv` file [from the Science Base repository](https://www.sciencebase.gov/catalog/item/63acac09d34e92aad3ca1480) into your workspace. Name your data frame variable `df`.\n",
    "\n",
    "<p style=\"text-align: center;\">\n",
    "**CHECK IN WITH YOUR TEAM** \n",
    "</p>\n",
    "<p style=\"text-align: center;\">\n",
    "**MAKE SURE YOU'VE ALL SUCCESSFULLY LOADED THE DATA BEFORE CONTINUING**\n",
    "</p>\n",
    "\n",
    "<p style=\"text-align: center;\">\n",
    "**check git status -> stage changes -> check git status -> commit with message -> pull -> push  changes**\n",
    "</p>\n",
    "\n"
   ]
  },
  {
   "cell_type": "code",
   "execution_count": 1,
   "metadata": {},
   "outputs": [
    {
     "data": {
      "text/html": [
       "<div>\n",
       "<style scoped>\n",
       "    .dataframe tbody tr th:only-of-type {\n",
       "        vertical-align: middle;\n",
       "    }\n",
       "\n",
       "    .dataframe tbody tr th {\n",
       "        vertical-align: top;\n",
       "    }\n",
       "\n",
       "    .dataframe thead th {\n",
       "        text-align: right;\n",
       "    }\n",
       "</style>\n",
       "<table border=\"1\" class=\"dataframe\">\n",
       "  <thead>\n",
       "    <tr style=\"text-align: right;\">\n",
       "      <th></th>\n",
       "      <th>Event</th>\n",
       "      <th>Search Source</th>\n",
       "      <th>Newspaper</th>\n",
       "      <th>Article Title</th>\n",
       "      <th>Duplicate</th>\n",
       "      <th>Report Date</th>\n",
       "      <th>Report Year</th>\n",
       "      <th>Event Date</th>\n",
       "      <th>Event Day</th>\n",
       "      <th>Event Month</th>\n",
       "      <th>...</th>\n",
       "      <th>Article Text Search - water rights</th>\n",
       "      <th>Article Text Search - intergovernmental</th>\n",
       "      <th>Article Text Search - water transfers</th>\n",
       "      <th>Article Text Search - navigation</th>\n",
       "      <th>Article Text Search - fish</th>\n",
       "      <th>Article Text Search - invasive</th>\n",
       "      <th>Article Text Search - diversion</th>\n",
       "      <th>Article Text Search - water diversion</th>\n",
       "      <th>Article Text Search - instream</th>\n",
       "      <th>Article Text Search - aquatic</th>\n",
       "    </tr>\n",
       "  </thead>\n",
       "  <tbody>\n",
       "    <tr>\n",
       "      <th>0</th>\n",
       "      <td>1</td>\n",
       "      <td>USGS1-50.docx</td>\n",
       "      <td>The Durango Herald (Colorado)</td>\n",
       "      <td>Tribes assert water rights on Colorado River B...</td>\n",
       "      <td>False</td>\n",
       "      <td>7-Apr-22</td>\n",
       "      <td>2022.0</td>\n",
       "      <td>NaN</td>\n",
       "      <td>NaN</td>\n",
       "      <td>4.0</td>\n",
       "      <td>...</td>\n",
       "      <td>17</td>\n",
       "      <td>0</td>\n",
       "      <td>0</td>\n",
       "      <td>0</td>\n",
       "      <td>0</td>\n",
       "      <td>0</td>\n",
       "      <td>0</td>\n",
       "      <td>0</td>\n",
       "      <td>0</td>\n",
       "      <td>0</td>\n",
       "    </tr>\n",
       "    <tr>\n",
       "      <th>1</th>\n",
       "      <td>2</td>\n",
       "      <td>USGS1-50.docx</td>\n",
       "      <td>Journal, The (Cortez, Dolores, Mancos, CO)</td>\n",
       "      <td>Native American tribes assert water rights on ...</td>\n",
       "      <td>False</td>\n",
       "      <td>7-Apr-22</td>\n",
       "      <td>2022.0</td>\n",
       "      <td>NaN</td>\n",
       "      <td>NaN</td>\n",
       "      <td>4.0</td>\n",
       "      <td>...</td>\n",
       "      <td>17</td>\n",
       "      <td>0</td>\n",
       "      <td>0</td>\n",
       "      <td>0</td>\n",
       "      <td>0</td>\n",
       "      <td>0</td>\n",
       "      <td>0</td>\n",
       "      <td>0</td>\n",
       "      <td>0</td>\n",
       "      <td>0</td>\n",
       "    </tr>\n",
       "    <tr>\n",
       "      <th>2</th>\n",
       "      <td>3</td>\n",
       "      <td>USGS1-50.docx</td>\n",
       "      <td>The Salt Lake Tribune</td>\n",
       "      <td>'Very positive change.' New Utah law will be a...</td>\n",
       "      <td>False</td>\n",
       "      <td>17-Mar-22</td>\n",
       "      <td>2022.0</td>\n",
       "      <td>NaN</td>\n",
       "      <td>NaN</td>\n",
       "      <td>3.0</td>\n",
       "      <td>...</td>\n",
       "      <td>12</td>\n",
       "      <td>0</td>\n",
       "      <td>0</td>\n",
       "      <td>0</td>\n",
       "      <td>1</td>\n",
       "      <td>0</td>\n",
       "      <td>0</td>\n",
       "      <td>0</td>\n",
       "      <td>12</td>\n",
       "      <td>1</td>\n",
       "    </tr>\n",
       "    <tr>\n",
       "      <th>3</th>\n",
       "      <td>4</td>\n",
       "      <td>USGS1-50.docx</td>\n",
       "      <td>Casa Grande Dispatch (AZ)</td>\n",
       "      <td>Legislation would let an Arizona tribe lease C...</td>\n",
       "      <td>False</td>\n",
       "      <td>11-Dec-21</td>\n",
       "      <td>2021.0</td>\n",
       "      <td>NaN</td>\n",
       "      <td>NaN</td>\n",
       "      <td>12.0</td>\n",
       "      <td>...</td>\n",
       "      <td>6</td>\n",
       "      <td>0</td>\n",
       "      <td>0</td>\n",
       "      <td>0</td>\n",
       "      <td>0</td>\n",
       "      <td>0</td>\n",
       "      <td>0</td>\n",
       "      <td>0</td>\n",
       "      <td>0</td>\n",
       "      <td>0</td>\n",
       "    </tr>\n",
       "    <tr>\n",
       "      <th>4</th>\n",
       "      <td>5</td>\n",
       "      <td>USGS1-50.docx</td>\n",
       "      <td>The Aspen Times (Colorado)</td>\n",
       "      <td>Historically excluded from Colorado River poli...</td>\n",
       "      <td>False</td>\n",
       "      <td>19-Dec-21</td>\n",
       "      <td>2021.0</td>\n",
       "      <td>NaN</td>\n",
       "      <td>NaN</td>\n",
       "      <td>11.0</td>\n",
       "      <td>...</td>\n",
       "      <td>18</td>\n",
       "      <td>0</td>\n",
       "      <td>0</td>\n",
       "      <td>0</td>\n",
       "      <td>0</td>\n",
       "      <td>0</td>\n",
       "      <td>0</td>\n",
       "      <td>0</td>\n",
       "      <td>0</td>\n",
       "      <td>0</td>\n",
       "    </tr>\n",
       "  </tbody>\n",
       "</table>\n",
       "<p>5 rows × 48 columns</p>\n",
       "</div>"
      ],
      "text/plain": [
       "   Event  Search Source                                   Newspaper  \\\n",
       "0      1  USGS1-50.docx               The Durango Herald (Colorado)   \n",
       "1      2  USGS1-50.docx  Journal, The (Cortez, Dolores, Mancos, CO)   \n",
       "2      3  USGS1-50.docx                       The Salt Lake Tribune   \n",
       "3      4  USGS1-50.docx                   Casa Grande Dispatch (AZ)   \n",
       "4      5  USGS1-50.docx                  The Aspen Times (Colorado)   \n",
       "\n",
       "                                       Article Title Duplicate Report Date  \\\n",
       "0  Tribes assert water rights on Colorado River B...     False    7-Apr-22   \n",
       "1  Native American tribes assert water rights on ...     False    7-Apr-22   \n",
       "2  'Very positive change.' New Utah law will be a...     False   17-Mar-22   \n",
       "3  Legislation would let an Arizona tribe lease C...     False   11-Dec-21   \n",
       "4  Historically excluded from Colorado River poli...     False   19-Dec-21   \n",
       "\n",
       "   Report Year Event Date  Event Day  Event Month  ...  \\\n",
       "0       2022.0        NaN        NaN          4.0  ...   \n",
       "1       2022.0        NaN        NaN          4.0  ...   \n",
       "2       2022.0        NaN        NaN          3.0  ...   \n",
       "3       2021.0        NaN        NaN         12.0  ...   \n",
       "4       2021.0        NaN        NaN         11.0  ...   \n",
       "\n",
       "   Article Text Search - water rights Article Text Search - intergovernmental  \\\n",
       "0                                  17                                       0   \n",
       "1                                  17                                       0   \n",
       "2                                  12                                       0   \n",
       "3                                   6                                       0   \n",
       "4                                  18                                       0   \n",
       "\n",
       "  Article Text Search - water transfers Article Text Search - navigation  \\\n",
       "0                                     0                                0   \n",
       "1                                     0                                0   \n",
       "2                                     0                                0   \n",
       "3                                     0                                0   \n",
       "4                                     0                                0   \n",
       "\n",
       "  Article Text Search - fish Article Text Search - invasive  \\\n",
       "0                          0                              0   \n",
       "1                          0                              0   \n",
       "2                          1                              0   \n",
       "3                          0                              0   \n",
       "4                          0                              0   \n",
       "\n",
       "  Article Text Search - diversion Article Text Search - water diversion  \\\n",
       "0                               0                                     0   \n",
       "1                               0                                     0   \n",
       "2                               0                                     0   \n",
       "3                               0                                     0   \n",
       "4                               0                                     0   \n",
       "\n",
       "   Article Text Search - instream Article Text Search - aquatic  \n",
       "0                               0                             0  \n",
       "1                               0                             0  \n",
       "2                              12                             1  \n",
       "3                               0                             0  \n",
       "4                               0                             0  \n",
       "\n",
       "[5 rows x 48 columns]"
      ]
     },
     "execution_count": 1,
     "metadata": {},
     "output_type": "execute_result"
    }
   ],
   "source": [
    "import pandas as pd\n",
    "\n",
    "df = pd.read_csv('data/Colorado River Basin Water Conflict Table.csv')\n",
    "df.head(5)"
   ]
  },
  {
   "cell_type": "markdown",
   "metadata": {},
   "source": [
    "## 4. Preliminary data exploration\n",
    "\n",
    "Write a list with at least four ways in which you coud gain preliminary information about this dataset and why these are relevant."
   ]
  },
  {
   "cell_type": "code",
   "execution_count": null,
   "metadata": {},
   "outputs": [],
   "source": [
    "# df.head()\n",
    "# df.shape\n",
    "# df.columns\n",
    "# df.Stakeholders.unique()"
   ]
  },
  {
   "cell_type": "code",
   "execution_count": 2,
   "metadata": {},
   "outputs": [
    {
     "data": {
      "text/plain": [
       "AZ    87\n",
       "CO    45\n",
       "UT    40\n",
       "NV    19\n",
       "CA    16\n",
       "NM    13\n",
       "WY     8\n",
       "OH     1\n",
       "TX     1\n",
       "Name: count, dtype: int64"
      ]
     },
     "execution_count": 2,
     "metadata": {},
     "output_type": "execute_result"
    }
   ],
   "source": [
    "(df['State'].dropna()\n",
    "            .str.split(';', expand=True)\n",
    "            .stack()\n",
    "            .str.strip()\n",
    "            .value_counts())"
   ]
  },
  {
   "cell_type": "code",
   "execution_count": 26,
   "metadata": {},
   "outputs": [
    {
     "data": {
      "text/plain": [
       "'Environmentalists secure water rights for Great Salt Lake'"
      ]
     },
     "execution_count": 26,
     "metadata": {},
     "output_type": "execute_result"
    }
   ],
   "source": [
    "oh_row = df[df['State'].str.contains('OH', case=False, na=False)]\n",
    "oh_row.iat[0,3]"
   ]
  },
  {
   "cell_type": "code",
   "execution_count": 24,
   "metadata": {},
   "outputs": [
    {
     "data": {
      "text/plain": [
       "11    OH; UT\n",
       "Name: State, dtype: object"
      ]
     },
     "execution_count": 24,
     "metadata": {},
     "output_type": "execute_result"
    }
   ],
   "source": [
    "oh_row['State']"
   ]
  },
  {
   "cell_type": "code",
   "execution_count": 27,
   "metadata": {},
   "outputs": [
    {
     "data": {
      "text/html": [
       "<div>\n",
       "<style scoped>\n",
       "    .dataframe tbody tr th:only-of-type {\n",
       "        vertical-align: middle;\n",
       "    }\n",
       "\n",
       "    .dataframe tbody tr th {\n",
       "        vertical-align: top;\n",
       "    }\n",
       "\n",
       "    .dataframe thead th {\n",
       "        text-align: right;\n",
       "    }\n",
       "</style>\n",
       "<table border=\"1\" class=\"dataframe\">\n",
       "  <thead>\n",
       "    <tr style=\"text-align: right;\">\n",
       "      <th></th>\n",
       "      <th>Event</th>\n",
       "      <th>Search Source</th>\n",
       "      <th>Newspaper</th>\n",
       "      <th>Article Title</th>\n",
       "      <th>Duplicate</th>\n",
       "      <th>Report Date</th>\n",
       "      <th>Report Year</th>\n",
       "      <th>Event Date</th>\n",
       "      <th>Event Day</th>\n",
       "      <th>Event Month</th>\n",
       "      <th>...</th>\n",
       "      <th>Article Text Search - water rights</th>\n",
       "      <th>Article Text Search - intergovernmental</th>\n",
       "      <th>Article Text Search - water transfers</th>\n",
       "      <th>Article Text Search - navigation</th>\n",
       "      <th>Article Text Search - fish</th>\n",
       "      <th>Article Text Search - invasive</th>\n",
       "      <th>Article Text Search - diversion</th>\n",
       "      <th>Article Text Search - water diversion</th>\n",
       "      <th>Article Text Search - instream</th>\n",
       "      <th>Article Text Search - aquatic</th>\n",
       "    </tr>\n",
       "  </thead>\n",
       "  <tbody>\n",
       "    <tr>\n",
       "      <th>220</th>\n",
       "      <td>221</td>\n",
       "      <td>USGS251-300.docx</td>\n",
       "      <td>Associated Press State &amp; Local</td>\n",
       "      <td>Austin water supply long-term plans appear to ...</td>\n",
       "      <td>False</td>\n",
       "      <td>5-Mar-15</td>\n",
       "      <td>2015.0</td>\n",
       "      <td>3</td>\n",
       "      <td>NaN</td>\n",
       "      <td>3.0</td>\n",
       "      <td>...</td>\n",
       "      <td>3</td>\n",
       "      <td>0</td>\n",
       "      <td>0</td>\n",
       "      <td>0</td>\n",
       "      <td>0</td>\n",
       "      <td>0</td>\n",
       "      <td>0</td>\n",
       "      <td>0</td>\n",
       "      <td>0</td>\n",
       "      <td>0</td>\n",
       "    </tr>\n",
       "  </tbody>\n",
       "</table>\n",
       "<p>1 rows × 48 columns</p>\n",
       "</div>"
      ],
      "text/plain": [
       "     Event     Search Source                       Newspaper  \\\n",
       "220    221  USGS251-300.docx  Associated Press State & Local   \n",
       "\n",
       "                                         Article Title Duplicate Report Date  \\\n",
       "220  Austin water supply long-term plans appear to ...     False    5-Mar-15   \n",
       "\n",
       "     Report Year Event Date  Event Day  Event Month  ...  \\\n",
       "220       2015.0          3        NaN          3.0  ...   \n",
       "\n",
       "     Article Text Search - water rights  \\\n",
       "220                                   3   \n",
       "\n",
       "    Article Text Search - intergovernmental  \\\n",
       "220                                       0   \n",
       "\n",
       "    Article Text Search - water transfers Article Text Search - navigation  \\\n",
       "220                                     0                                0   \n",
       "\n",
       "    Article Text Search - fish Article Text Search - invasive  \\\n",
       "220                          0                              0   \n",
       "\n",
       "    Article Text Search - diversion Article Text Search - water diversion  \\\n",
       "220                               0                                     0   \n",
       "\n",
       "     Article Text Search - instream Article Text Search - aquatic  \n",
       "220                               0                             0  \n",
       "\n",
       "[1 rows x 48 columns]"
      ]
     },
     "execution_count": 27,
     "metadata": {},
     "output_type": "execute_result"
    }
   ],
   "source": [
    "df[df['State'].str.contains('TX', case=False, na=False)]"
   ]
  },
  {
   "cell_type": "markdown",
   "metadata": {},
   "source": [
    "## Examine state codes\n",
    "\n",
    "Our goal today is to find which states are reported in the dataset as having a water-conflict. \n",
    "\n",
    "1. Examine the unique values in the `States` column. What could be a challenge to writing code to find which states are listed (without repetition)? Remember to write longer answers in mardown cells, not as comments."
   ]
  },
  {
   "cell_type": "code",
   "execution_count": 60,
   "metadata": {},
   "outputs": [
    {
     "name": "stdout",
     "output_type": "stream",
     "text": [
      "['CO' 'UT' nan 'AZ' 'OH; UT' 'AZ; CO; NM; UT' 'CA' 'AZ; UT' 'AZ; NV'\n",
      " 'CO; UT; WY; NM' 'AZ; CA' 'UT; AZ' 'CO; WY' 'NV; AZ' 'CO; AZ'\n",
      " 'AZ; CA; CO; NV; NM; UT; WY' 'AZ; CA; NV' 'NV' 'NM' 'UT; CO; WY'\n",
      " 'CA; NV; AZ' 'AZ; NM' 'WY; UT; CO' 'TX']\n"
     ]
    }
   ],
   "source": [
    "print(df['State'].unique())"
   ]
  },
  {
   "cell_type": "code",
   "execution_count": 62,
   "metadata": {},
   "outputs": [
    {
     "name": "stdout",
     "output_type": "stream",
     "text": [
      "CO\n",
      "UT\n",
      "nan\n",
      "AZ\n",
      "OH; UT\n",
      "AZ; CO; NM; UT\n",
      "CA\n",
      "AZ; UT\n",
      "AZ; NV\n",
      "CO; UT; WY; NM\n",
      "AZ; CA\n",
      "UT; AZ\n",
      "CO; WY\n",
      "NV; AZ\n",
      "CO; AZ\n",
      "AZ; CA; CO; NV; NM; UT; WY\n",
      "AZ; CA; NV\n",
      "NV\n",
      "NM\n",
      "UT; CO; WY\n",
      "CA; NV; AZ\n",
      "AZ; NM\n",
      "WY; UT; CO\n",
      "TX\n"
     ]
    }
   ],
   "source": [
    "for x in df['State'].unique():\n",
    "    print(x)"
   ]
  },
  {
   "cell_type": "markdown",
   "metadata": {},
   "source": [
    "## Brainstorm\n",
    "\n",
    "1. First, individually, write step-by-step instructions of how you would create a list with the state codes in which there's a water-conflict reported (without repetition). It's ok if you don't know how to code each step, it's just important to have an idea of what we'll do before starting to code.\n",
    "\n",
    "2. Discuss your ideas with your team.\n",
    "\n",
    "The next exercises will guide you through finding the state codes in the dataset. There are *many* ways of extracting this information from the dataset. The one presented here might not be the same way you thought about doing it - that's ok! This one was designed to practice using the **`.str` accessor** in a `pandas.Series`."
   ]
  },
  {
   "cell_type": "markdown",
   "metadata": {},
   "source": [
    "## Drop NAs\n",
    "\n",
    "Use the `dropna()` method for `pandas.Series` on the State column to create a new `pandas.Series` `states` without NAs. Check there are no NAs in the new `states` series."
   ]
  },
  {
   "cell_type": "code",
   "execution_count": 64,
   "metadata": {},
   "outputs": [
    {
     "data": {
      "text/plain": [
       "0          CO\n",
       "1          CO\n",
       "2          UT\n",
       "5          AZ\n",
       "11     OH; UT\n",
       "        ...  \n",
       "263        CO\n",
       "264        CO\n",
       "265    AZ; CA\n",
       "266        AZ\n",
       "267        AZ\n",
       "Name: State, Length: 178, dtype: object"
      ]
     },
     "execution_count": 64,
     "metadata": {},
     "output_type": "execute_result"
    }
   ],
   "source": [
    "states = df['State'].dropna()\n",
    "states"
   ]
  },
  {
   "cell_type": "code",
   "execution_count": 66,
   "metadata": {},
   "outputs": [
    {
     "data": {
      "text/plain": [
       "False"
      ]
     },
     "execution_count": 66,
     "metadata": {},
     "output_type": "execute_result"
    }
   ],
   "source": [
    "states.hasnans"
   ]
  },
  {
   "cell_type": "markdown",
   "metadata": {},
   "source": [
    "## Split strings"
   ]
  },
  {
   "cell_type": "markdown",
   "metadata": {},
   "source": [
    "## Stack the data frame"
   ]
  },
  {
   "cell_type": "markdown",
   "metadata": {},
   "source": [
    "## String accessor"
   ]
  },
  {
   "cell_type": "markdown",
   "metadata": {},
   "source": [
    "## Value counts"
   ]
  },
  {
   "cell_type": "markdown",
   "metadata": {},
   "source": [
    "## Method chaining"
   ]
  },
  {
   "cell_type": "code",
   "execution_count": null,
   "metadata": {},
   "outputs": [],
   "source": [
    "# stakeholders = (df['Stakeholders'].dropna()\n",
    "#                      .str.split(',', expand=True)\n",
    "#                      .apply(lambda x: x.str.strip())\n",
    "#                      .values\n",
    "#                      .ravel())\n",
    "\n",
    "# stakeholders = pd.unique(stakeholders)\n",
    "# print(stakeholders)"
   ]
  }
 ],
 "metadata": {
  "kernelspec": {
   "display_name": "Python 3 (ipykernel)",
   "language": "python",
   "name": "python3"
  },
  "language_info": {
   "codemirror_mode": {
    "name": "ipython",
    "version": 3
   },
   "file_extension": ".py",
   "mimetype": "text/x-python",
   "name": "python",
   "nbconvert_exporter": "python",
   "pygments_lexer": "ipython3",
   "version": "3.7.13"
  },
  "vscode": {
   "interpreter": {
    "hash": "096ff075efa46b48fdc6093cb088d328f1206dfedfbeb0f42cf6b14174f51118"
   }
  }
 },
 "nbformat": 4,
 "nbformat_minor": 4
}
