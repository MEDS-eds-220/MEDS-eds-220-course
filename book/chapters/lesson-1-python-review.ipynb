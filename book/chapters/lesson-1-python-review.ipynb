{
  "cells": [
    {
      "cell_type": "markdown",
      "metadata": {},
      "source": [
        "Have the following links open:\n",
        "- Taylor\n",
        "- website on cat diagram\n",
        "- `numpy.ndarray` docs : https://numpy.org/doc/stable/reference/generated/numpy.ndarray.html\n"
      ]
    },
    {
      "cell_type": "markdown",
      "metadata": {},
      "source": [
        "# Python review \n",
        "\n",
        "Short review about some core concepts in Python exemplified by objects in the NumPy library. \n",
        "Goals: \n",
        "- recall basic Python vocabulary\n",
        "- practice markdown\n",
        "\n",
        "## Libraries and packages\n",
        "\n",
        "**library:** is a collection of code that we can use to perform specific tasks in our programs. It can be a single file or multiple ones. \n",
        "\n",
        "**NumPy:**  \n",
        "- core library for numerical computing in Python. \n",
        "- many of the libraries use NumPy's arrays as their building blocks\n",
        "- computations on NumPy objects are optimized for speed and memory usage\n",
        "\n",
        "Let's import NumPy using the **standard to abbreviation** `np`:"
      ]
    },
    {
      "cell_type": "code",
      "execution_count": 6,
      "metadata": {},
      "outputs": [],
      "source": [
        "import numpy as np"
      ]
    },
    {
      "cell_type": "markdown",
      "metadata": {},
      "source": [
        "*By importing `numpy`, all the objects and functions in this library will be available for us to use in our notebook.*\n",
        "\n",
        "## Variables\n",
        "\n",
        "**variable:** a name we assign to a particular object in Python. \n",
        "\n",
        "Example:"
      ]
    },
    {
      "cell_type": "code",
      "execution_count": 7,
      "metadata": {},
      "outputs": [],
      "source": [
        "# Assign a small array to variable a\n",
        "a = np.array([[1,1,2],[3,5,8]])"
      ]
    },
    {
      "cell_type": "markdown",
      "metadata": {},
      "source": [
        "*When we run the cell, we store the variables and their value.*\n",
        "\n",
        "To view a variable's value from within our Jupyter notebook:"
      ]
    },
    {
      "cell_type": "code",
      "execution_count": 8,
      "metadata": {},
      "outputs": [
        {
          "data": {
            "text/plain": [
              "array([[1, 1, 2],\n",
              "       [3, 5, 8]])"
            ]
          },
          "execution_count": 8,
          "metadata": {},
          "output_type": "execute_result"
        }
      ],
      "source": [
        "# Run cell with the variable name to show value\n",
        "a"
      ]
    },
    {
      "cell_type": "code",
      "execution_count": 9,
      "metadata": {},
      "outputs": [
        {
          "name": "stdout",
          "output_type": "stream",
          "text": [
            "[[1 1 2]\n",
            " [3 5 8]]\n"
          ]
        }
      ],
      "source": [
        "# Use `print` function to print the value\n",
        "print(a)"
      ]
    },
    {
      "cell_type": "markdown",
      "metadata": {},
      "source": [
        "*Comments should start with a capital letter.*"
      ]
    },
    {
      "cell_type": "markdown",
      "metadata": {},
      "source": [
        "## R and Python: assigning values\n",
        "\n",
        "Remember that in Python we use the equal sign `=` to assign values to variables in the same way the left-arrow `<-` is used in R:\n",
        "``` R\n",
        "# R: assign value 10 to variable a\n",
        "a <- 10\n",
        "```\n",
        "\n",
        "``` R\n",
        "# Python: assign value 10 to variable a\n",
        "a = 10\n",
        "```\n",
        "## Convention: Use `snake_case` for naming variables\n",
        "\n",
        "There are many ways of constructing multi-word variable names. \n",
        "\n",
        "In this course we will name variables using **snake_case**, where words are all in small caps and separated by underscores (ex: `raw_data`, `fires_2023`). \n",
        "\n",
        "*This is the naming convention suggested by the PEP 8 - Style Guide for Python Code*\n",
        "\n",
        "**Remember variable names should be both descriptive and concise!**\n",
        "\n",
        "## Objects\n",
        "\n",
        "**object:** (informally speaking) is a bundle of *properties* and *actions* about something specific. \n",
        "\n",
        "Example:\n",
        "\n",
        "Object: data frame\n",
        "Properties: number of rows, names of columns, and date created\n",
        "Actions: selecting a specific row or adding a new column. \n",
        "\n",
        "A variable is the name we give a specific object, and the same object can be referenced by different variables. \n",
        "\n",
        "*Analogy: Sun (object) is called \"sol\" in Spanish and \"soleil\" in French, so two different names (variables) represent the same object.*\n",
        "\n",
        "In practice, we can often use the word variable and object interchangeably.\n",
        "\n",
        "*I want to bring up what objects are so you are not caught off-guard with vocabulary you will often encounter in the documentation, StackExchange, etc.*\n",
        "\n",
        "## Types\n",
        "\n",
        "Every object in Python has a **type**, the type tells us what kind of object it is. We can also call the type of an object, the **class** of an object, so class and type both mean what kind of object we have. \n"
      ]
    },
    {
      "cell_type": "code",
      "execution_count": 10,
      "metadata": {},
      "outputs": [
        {
          "name": "stdout",
          "output_type": "stream",
          "text": [
            "[[1 1 2]\n",
            " [3 5 8]]\n"
          ]
        },
        {
          "data": {
            "text/plain": [
              "numpy.ndarray"
            ]
          },
          "execution_count": 10,
          "metadata": {},
          "output_type": "execute_result"
        }
      ],
      "source": [
        "print(a)\n",
        "# See the type/class of a variable/object by using the `type` function\n",
        "type(a)"
      ]
    },
    {
      "cell_type": "markdown",
      "metadata": {},
      "source": [
        "The `numpy.ndarray` is the core object/data type in the NumPy package."
      ]
    },
    {
      "cell_type": "code",
      "execution_count": 11,
      "metadata": {},
      "outputs": [
        {
          "name": "stdout",
          "output_type": "stream",
          "text": [
            "1\n"
          ]
        },
        {
          "data": {
            "text/plain": [
              "numpy.int64"
            ]
          },
          "execution_count": 11,
          "metadata": {},
          "output_type": "execute_result"
        }
      ],
      "source": [
        "print(a[0,0])\n",
        "\n",
        "# Check the type of an entry in the array by indexing\n",
        "type(a[0,0])"
      ]
    },
    {
      "cell_type": "markdown",
      "metadata": {},
      "source": [
        "Notice the type of the value 1 in the array is `numpy.int64` and not just the standard Python integer type `int`. \n",
        "\n",
        "The NumPy type `numpy.int64` is telling us 1 is an integer stored as a 64-bit number. \n",
        "\n",
        "*NumPy has its own data types to deal with numbers depending on memory storage and floating point precision*\n",
        "\n",
        "## R and Python: indexing\n",
        "\n",
        "Remember that **in Python the indexing starts from 0, while in R it starts from 1**. \n",
        "\n",
        "*If you learned R first, this might seem odd but it's easy to get used to it with some practice.*\n",
        "\n",
        "A way to understand this 0-indexing is that, in Python, the index indicates the *displacement* from the start of the collection. So '0 index in an array' means 'zero displacement from the start of the array', in other words, the first element of the array. \n",
        "\n",
        "## Check-in\n",
        "How would you access the value 5 in the array `a`?\n",
        "\n",
        "\n",
        "*Since \"everything in Python is an object\" and every object belongs to a class, we will interact with SO MANY classes in this course.*\n",
        "\n",
        "*Often, knowing the type of an object is the first step to finding information to code what you want!*\n",
        "\n",
        "## Functions\n",
        "\n",
        "`print` was our first example of a Python **function**. \n",
        "\n",
        "Functions take in a set of **arguments**, separated by commas, and use those arguments to create an **output**. \n",
        "\n",
        "In this course we will use argument and parameter interchangeably. They do, however, have related but different meanings. \n",
        "\n",
        "We can ask for information about what a function does function by executing `?` followed by the function name:"
      ]
    },
    {
      "cell_type": "code",
      "execution_count": 12,
      "metadata": {},
      "outputs": [
        {
          "name": "stdout",
          "output_type": "stream",
          "text": [
            "\u001b[0;31mSignature:\u001b[0m \u001b[0mprint\u001b[0m\u001b[0;34m(\u001b[0m\u001b[0;34m*\u001b[0m\u001b[0margs\u001b[0m\u001b[0;34m,\u001b[0m \u001b[0msep\u001b[0m\u001b[0;34m=\u001b[0m\u001b[0;34m' '\u001b[0m\u001b[0;34m,\u001b[0m \u001b[0mend\u001b[0m\u001b[0;34m=\u001b[0m\u001b[0;34m'\\n'\u001b[0m\u001b[0;34m,\u001b[0m \u001b[0mfile\u001b[0m\u001b[0;34m=\u001b[0m\u001b[0;32mNone\u001b[0m\u001b[0;34m,\u001b[0m \u001b[0mflush\u001b[0m\u001b[0;34m=\u001b[0m\u001b[0;32mFalse\u001b[0m\u001b[0;34m)\u001b[0m\u001b[0;34m\u001b[0m\u001b[0;34m\u001b[0m\u001b[0m\n",
            "\u001b[0;31mDocstring:\u001b[0m\n",
            "Prints the values to a stream, or to sys.stdout by default.\n",
            "\n",
            "sep\n",
            "  string inserted between values, default a space.\n",
            "end\n",
            "  string appended after the last value, default a newline.\n",
            "file\n",
            "  a file-like object (stream); defaults to the current sys.stdout.\n",
            "flush\n",
            "  whether to forcibly flush the stream.\n",
            "\u001b[0;31mType:\u001b[0m      builtin_function_or_method"
          ]
        }
      ],
      "source": [
        "?print"
      ]
    },
    {
      "cell_type": "markdown",
      "metadata": {},
      "source": [
        "![](/book/images/lesson-1/print-docstring.png)\n",
        "\n",
        "What we obtain is a **docstring**, a special type of comment that is used to document how a function (or class, or module) works. \n",
        "\n",
        "*first line in the docstring: is telling us the function name followed by all of its arguments in parentheses.*\n",
        "\n",
        "*Then there is a short description of what the function does.*\n",
        "\n",
        "*And finally a list of the arguments and a brief explanation about each of them.*\n",
        "\n",
        "You can see there are different types of arguments inside the function's parenthesis. Roughly speaking, a function has two types of arguments:\n",
        "\n",
        "- **non-optional arguments**: arguments *you* need to specify for the function to do something, and\n",
        "\n",
        "- **optional arguments**: arguments that are pre-filled with a default value by the function, but you can override them. Optional arguments appear inside the parenthesis () in the form `optional_argument = default_value`. \n",
        "\n",
        "Example:\n",
        "\n",
        "`end` is a parameter in `print` with the default value a new line. \n",
        "We can pass the value ` ^_^` to this parameter so that finishes the line with ` ^_^` instead:"
      ]
    },
    {
      "cell_type": "code",
      "execution_count": 13,
      "metadata": {},
      "outputs": [
        {
          "name": "stdout",
          "output_type": "stream",
          "text": [
            "changing the default end argument of the print function ^_^"
          ]
        }
      ],
      "source": [
        "print('changing the default end argument of the print function', end=' ^_^')"
      ]
    },
    {
      "cell_type": "markdown",
      "metadata": {},
      "source": [
        "*Notice that before we had always used print without specifying any value for the `end` parameter.*\n",
        "\n",
        "\n",
        "## Attributes & methods\n",
        "\n",
        "An object in Python has attributes and methods. \n",
        "\n",
        "- **attribute:** a property of the object, some piece of information about it.\n",
        "- **method:** a procedure associated with an object, so it is an action where the main ingredient is the object. \n",
        "\n",
        "For example, these could be some attributes and methods for class `cat`:\n",
        "\n",
        "- class: cat\n",
        "- attributes: name, color, age, weight\n",
        "- methods: meow(), nap(), chase_lasers(), move_tail()\n",
        "\n",
        "\n",
        "More formally, **a method is a function** that acts on the object it is part of.\n",
        "\n",
        "We can access a variable's attributes and methods by adding a period `.` at the end of the variable's name. So we would write `variable.variable_method()` or `variable.variable_attribute`. \n",
        "\n",
        "## Check-in\n",
        "Suppose we have a class `fish`, make a diagram similar to the `cat` class diagram showing 3 attributes for the class and 3 methods.\n",
        "\n",
        "Examples of attributes:\n",
        "\n",
        "NumPy arrays have many methods and attributes. Let's see some concrete examples."
      ]
    },
    {
      "cell_type": "code",
      "execution_count": 14,
      "metadata": {},
      "outputs": [
        {
          "data": {
            "text/plain": [
              "array([[1, 2, 3],\n",
              "       [4, 5, 6],\n",
              "       [7, 8, 9]])"
            ]
          },
          "execution_count": 14,
          "metadata": {},
          "output_type": "execute_result"
        }
      ],
      "source": [
        "# A 3x3 array\n",
        "var = np.array([[1,2,3],[4,5,6],[7,8,9]])\n",
        "var"
      ]
    },
    {
      "cell_type": "markdown",
      "metadata": {},
      "source": [
        "`T` is an example of attribute, it returns the transpose of `var`:"
      ]
    },
    {
      "cell_type": "code",
      "execution_count": 15,
      "metadata": {},
      "outputs": [
        {
          "name": "stdout",
          "output_type": "stream",
          "text": [
            "[[1 4 7]\n",
            " [2 5 8]\n",
            " [3 6 9]]\n",
            "<class 'numpy.ndarray'>\n"
          ]
        }
      ],
      "source": [
        "print(var.T)\n",
        "print(type(var.T))"
      ]
    },
    {
      "cell_type": "markdown",
      "metadata": {},
      "source": [
        "`shape`, another attribute, tells us the shape of the array:"
      ]
    },
    {
      "cell_type": "code",
      "execution_count": 16,
      "metadata": {},
      "outputs": [
        {
          "name": "stdout",
          "output_type": "stream",
          "text": [
            "(3, 3)\n",
            "<class 'tuple'>\n"
          ]
        }
      ],
      "source": [
        "print(var.shape)\n",
        "print(type(var.shape))"
      ]
    },
    {
      "cell_type": "markdown",
      "metadata": {},
      "source": [
        "`ndim` is an attribute holding the number of array dimensions"
      ]
    },
    {
      "cell_type": "code",
      "execution_count": 27,
      "metadata": {},
      "outputs": [
        {
          "name": "stdout",
          "output_type": "stream",
          "text": [
            "dim: 2 | type: <class 'int'>\n"
          ]
        }
      ],
      "source": [
        "print('dim:', var.ndim, '| type:', type(var.ndim))"
      ]
    },
    {
      "cell_type": "markdown",
      "metadata": {},
      "source": [
        "Notice these attributes can have many different data types. \n",
        "\n",
        "Examples of methods:\n",
        "\n",
        "The `tolist` method returns the array as a nested list of scalars:"
      ]
    },
    {
      "cell_type": "code",
      "execution_count": 18,
      "metadata": {},
      "outputs": [
        {
          "data": {
            "text/plain": [
              "[[1, 2, 3], [4, 5, 6], [7, 8, 9]]"
            ]
          },
          "execution_count": 18,
          "metadata": {},
          "output_type": "execute_result"
        }
      ],
      "source": [
        "var.tolist()"
      ]
    },
    {
      "cell_type": "markdown",
      "metadata": {},
      "source": [
        "The `min` method returns the minimum value in the array along a specified axis:"
      ]
    },
    {
      "cell_type": "code",
      "execution_count": 19,
      "metadata": {},
      "outputs": [
        {
          "data": {
            "text/plain": [
              "array([1, 2, 3])"
            ]
          },
          "execution_count": 19,
          "metadata": {},
          "output_type": "execute_result"
        }
      ],
      "source": [
        "var.min(axis=0)"
      ]
    },
    {
      "cell_type": "markdown",
      "metadata": {},
      "source": [
        "## Check-in\n",
        "\n",
        "We can also call the `min` method without any parameters:"
      ]
    },
    {
      "cell_type": "code",
      "execution_count": 20,
      "metadata": {},
      "outputs": [
        {
          "data": {
            "text/plain": [
              "1"
            ]
          },
          "execution_count": 20,
          "metadata": {},
          "output_type": "execute_result"
        }
      ],
      "source": [
        "var.min()"
      ]
    },
    {
      "cell_type": "markdown",
      "metadata": {},
      "source": [
        "What kind of parameter is `axis` in our previous call of the `var` method?\n",
        ":::\n",
        "\n",
        "Remember, methods are functions associated to an object. We can confirm this!"
      ]
    },
    {
      "cell_type": "code",
      "execution_count": 21,
      "metadata": {},
      "outputs": [
        {
          "data": {
            "text/plain": [
              "builtin_function_or_method"
            ]
          },
          "execution_count": 21,
          "metadata": {},
          "output_type": "execute_result"
        }
      ],
      "source": [
        "type(var.tolist)"
      ]
    },
    {
      "cell_type": "code",
      "execution_count": 22,
      "metadata": {},
      "outputs": [
        {
          "data": {
            "text/plain": [
              "builtin_function_or_method"
            ]
          },
          "execution_count": 22,
          "metadata": {},
          "output_type": "execute_result"
        }
      ],
      "source": [
        "type(var.min)"
      ]
    },
    {
      "cell_type": "markdown",
      "metadata": {},
      "source": [
        "You can see a complete list of [NumPy array's methods and attributes](https://numpy.org/doc/stable/reference/generated/numpy.ndarray.html) in the documentation.\n",
        "\n",
        "\n",
        "*Optional*\n",
        "## R and Python: are there methods in R?\n",
        "\n",
        "It is uncommon to use methods within an object in R. Rather, functions are extrinsic to the objects they are acting on.  In R, for example, there would usually be two separate items: the variable `var` and a separate function `min` that gets `var` as a parameter:\n",
        "\n",
        "``` R\n",
        "# This is R code\n",
        "var <- array(c(1,4,7,2,5,8,3,6,9), dim =c(3,3))\n",
        "min(var)\n",
        "```\n",
        "\n",
        "Using the pipe operator `%>%` in R's tidyverse is closer to the dot `.` in Python:\n",
        "\n",
        "``` R\n",
        "# This is R code\n",
        "var <- array(c(1,4,7,2,5,8,3,6,9), dim =c(3,3))\n",
        "var %>% min()\n",
        "```\n",
        "\n",
        "What happens here is that the pipe `%>%` is passing `var` to the `min()` function as its first argument. This is similar to what happens in Python when a function is a method of a class:\n",
        "\n",
        "``` python\n",
        "# This is Python code\n",
        "var = np.array([[1,2,3],[4,5,6],[7,8,9]])\n",
        "var.min()\n",
        "```\n",
        "\n",
        "When working in Python, remember that *methods are functions that are part of an object* and a method uses the object it is part of to produce some information."
      ]
    },
    {
      "cell_type": "markdown",
      "metadata": {},
      "source": [
        "## Exercise\n",
        "1. Read the `print` function help. What is the type of the argument `sep`? Is this a default or non-default argument? Why?\n",
        "\n",
        "2. Create two new variables, one with the integer value 77 and another one with the string 99.\n",
        "\n",
        "3. Use your variables to print `77%99%77` by changing the value of one of the default arguments in `print`."
      ]
    },
    {
      "cell_type": "code",
      "execution_count": 23,
      "metadata": {},
      "outputs": [
        {
          "name": "stdout",
          "output_type": "stream",
          "text": [
            "77%99%77\n"
          ]
        }
      ],
      "source": [
        "x = 77\n",
        "y = '99'\n",
        "print(x,y,x,sep='%')"
      ]
    },
    {
      "cell_type": "code",
      "execution_count": null,
      "metadata": {},
      "outputs": [],
      "source": []
    }
  ],
  "metadata": {
    "kernelspec": {
      "display_name": "mpc-env-kernel",
      "language": "python",
      "name": "mpc-env-kernel",
      "path": "/Users/galaz-garcia/Library/Jupyter/kernels/mpc-env-kernel"
    },
    "language_info": {
      "codemirror_mode": {
        "name": "ipython",
        "version": 3
      },
      "file_extension": ".py",
      "mimetype": "text/x-python",
      "name": "python",
      "nbconvert_exporter": "python",
      "pygments_lexer": "ipython3",
      "version": "3.11.4"
    }
  },
  "nbformat": 4,
  "nbformat_minor": 4
}
