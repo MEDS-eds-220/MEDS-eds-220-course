{
  "cells": [
    {
      "cell_type": "markdown",
      "metadata": {},
      "source": [
        "# 15 STAC specification\n",
        "\n",
        "So far in our course we have obtained data in two ways: by downloading it directly from the data provider or by obtaining a URL from a data repository. \n",
        "This can be a convenient way to access targeted datasets, often usign graphical user interfaces (GUIs) for data discovery and filtering.\n",
        "However, relying on clicking and copy-pasting addresses and file names can make our workflows more error-prone and less reproducible. \n",
        "In particular, satellites around the world produce terabytes of new data daily and manually browsing through data repositories can it make difficult to access this data. \n",
        "Moreover, it can be inconvenient to learn a new way to access data from every single big data provider.\n",
        "This is where STAC comes in.\n",
        "\n",
        "![](/book/images/lesson-16/STAC-01.png){width=\"60%\" fig-align=\"center\"}\n",
        "\n",
        "The **SpatioTemporal Asset Catalog (STAC)** is an emerging open standard for geospatial data that aims to increase the interoperability of geospatial data, particularly satellite imagery. \n",
        "[Many major data archives](https://stacspec.org/en/about/datasets/) now follow the STAC specification.\n",
        "\n",
        "In the next classes we'll be working with the [Microsoft's Planetary Computer (MPC)](https://planetarycomputer.microsoft.com) STAC API. \n",
        "In this lesson we will learn about the main components of a STAC catalog and how to search for data using the MPC's STAC API. \n",
        "\n",
        "## Item, collection, and catalog\n",
        "The **STAC item** (or just item) is the building block of a STAC. \n",
        "An item is a GeoJSON feature with additional fields that make it easier to find it as we look for data across catalogs. \n",
        "\n",
        "An item holds two types of information:\n",
        "\n",
        "1. **Metadata:** The metadata for a STAC item includes core identifying information (such as ID, geometry, bounding box, and date), and additional properties (for example, place of collection). \n",
        "\n",
        "2. **Assets:** Assets are links to the actual data of the item (for example, links to the spectral bands of a satellite image.)\n",
        "\n",
        "STAC items can be grouped into **STAC collections**. \n",
        "For example, while a single satellite scene (at a single time and location) would constitue an item, scenes across time and location from the same satellite can be orgnanized in a collection. \n",
        "Finally, multiple collections can be organized into a single **STAC catalog**. \n",
        "\n",
        "For example, we'll be accessing the MPC STAC catalog. Two of its collections are the National Agriculture Imagery Program (NAIP) colelction and the Copernicus Digital Elevation Model (DEM) colleciton. Each of these collections has multiple items, with item cotaining properties (metadata) and assets (links to the data). \n",
        "\n",
        "![](/book//images/lesson-16/mpc-stac-catalog.png)\n",
        "\n",
        "## Application Programming Interface (API)\n",
        "To request data from a catalog following the STAC standard we use an **Application Programming Interface (API)**. \n",
        "We can think of an API as an intermediary tasked with sending our request for data to the data catalog and getting the response from the catalog back to us. \n",
        "The following diagram nicely explains what an API does using a real-life analogy of a restaurant:\n",
        "\n",
        "![Image Source: [Geeks for geeks - What is an API?](https://www.geeksforgeeks.org/what-is-an-api/)](/book/images/lesson-16/what-is-an-api.png)\n",
        "\n",
        "The Python package to access APIs for STAC catalogs is [`pystac_client`](https://pystac-client.readthedocs.io/en/stable/). \n",
        "Our goal in this lesson is to retrieve [NAIP data](https://naip-usdaonline.hub.arcgis.com) from the [MPC's data catalog](https://planetarycomputer.microsoft.com/catalog) via its STAC API. \n",
        "\n",
        "## MPC Catalog \n",
        "<!--https://github.com/NCEAS/msai4earth-esa/blob/main/examples/naip_example/access_naip.ipynb-->\n",
        "First, load the necessary packages:"
      ]
    },
    {
      "cell_type": "code",
      "metadata": {},
      "source": [
        "import numpy as np\n",
        "import matplotlib.pyplot as plt\n",
        "import geopandas as gpd\n",
        "import rioxarray as rioxr\n",
        "from shapely.geometry import Polygon\n",
        "\n",
        "from pystac_client import Client  # To access STAC catalogs\n",
        "\n",
        "import planetary_computer  # To sign items from the MPC STAC catalog \n",
        "\n",
        "from IPython.display import Image  # To nicely display images"
      ],
      "execution_count": null,
      "outputs": []
    },
    {
      "cell_type": "markdown",
      "metadata": {},
      "source": [
        "### Access\n",
        "We use the `Client` function from the `pystac_client` package to access the catalog:"
      ]
    },
    {
      "cell_type": "code",
      "metadata": {},
      "source": [
        "# Access MPC catalog\n",
        "catalog = Client.open(\n",
        "    \"https://planetarycomputer.microsoft.com/api/stac/v1\",\n",
        "    modifier=planetary_computer.sign_inplace,\n",
        ")"
      ],
      "execution_count": null,
      "outputs": []
    },
    {
      "cell_type": "markdown",
      "metadata": {},
      "source": [
        "The `modifier` parameter is needed to access the data in the MPC catalog.\n",
        "\n",
        "### Cata log Exploration\n",
        "Let's check out some of the catalog's metadata:"
      ]
    },
    {
      "cell_type": "code",
      "metadata": {},
      "source": [
        "# Explore catalog metadata\n",
        "print('Title:', catalog.title)\n",
        "print('Description:', catalog.description)"
      ],
      "execution_count": null,
      "outputs": []
    },
    {
      "cell_type": "markdown",
      "metadata": {},
      "source": [
        "We can access its collections by using the `get_collections()` method:"
      ]
    },
    {
      "cell_type": "code",
      "metadata": {},
      "source": [
        "catalog.get_collections()"
      ],
      "execution_count": null,
      "outputs": []
    },
    {
      "cell_type": "markdown",
      "metadata": {},
      "source": [
        "Notice the output of `get_collections()` is a **generator**. \n",
        "This is a special kind of **lazy object** in Python over which you can loop over like a list. \n",
        "Unlike a list, the items in a generator do not exist in memory until you explicitely iterate over them or convert them to a list. This can allow for more efficient memory allcoation. Once the generator is exhausted (i.e. iterated over completely), it cannot be reused unless it is recreated.\n",
        "\n",
        "Let's try getting the collections from the catalog again:"
      ]
    },
    {
      "cell_type": "code",
      "metadata": {},
      "source": [
        "# Get collections and print their names\n",
        "collections = list(catalog.get_collections())  # Turn generator into list\n",
        "\n",
        "print('Number of collections:', len(collections))\n",
        "\n",
        "print(\"Collections IDs (first 10):\")\n",
        "for i in range(10):\n",
        "    print('-', collections[i].id)"
      ],
      "execution_count": null,
      "outputs": []
    },
    {
      "cell_type": "markdown",
      "metadata": {},
      "source": [
        "## Collection\n",
        "The NAIP catalog's ID is `'naip'`. \n",
        "We can select a single collection for exploration using the `get_child()` method for the catalog and the collection ID as the parameter:"
      ]
    },
    {
      "cell_type": "code",
      "metadata": {},
      "source": [
        "naip_collection = catalog.get_child('naip')\n",
        "naip_collection"
      ],
      "execution_count": null,
      "outputs": []
    },
    {
      "cell_type": "markdown",
      "metadata": {},
      "source": [
        "<!--\n",
        "https://pystac.readthedocs.io/en/latest/api/pystac.html#pystac.Collection\n",
        "\n",
        "https://pystac.readthedocs.io/en/stable/api/item_collection.html#pystac-item-collection\n",
        "-->\n",
        "\n",
        "## Catalog search\n",
        "We can narrow down the search within the `catalog` by specifying a time range, an area of interest, and the collection name. \n",
        "The simplest ways to define the area of interest to look for data in the catalog are:\n",
        "\n",
        "- a GeoJSON-type dictionary with the coordinates of the bounding box,\n",
        "- as a list `[xmin, ymin, xmax, ymax]` with the coordinate values defining the four corners of the bounding box.\n",
        "\n",
        "In this lesson we will look for the NAIP scenes over Santa Barbara from 2018 to 2023. \n",
        "We'll use the GeoJSON method to define the area of interest:"
      ]
    },
    {
      "cell_type": "code",
      "metadata": {},
      "source": [
        "# Temporal range of interest\n",
        "time_range = \"2018-01-01/2023-01-01\"\n",
        "\n",
        "# NCEAS bounding box (as a GeoJSON)\n",
        "bbox = {\n",
        "    \"type\": \"Polygon\",\n",
        "    \"coordinates\":[\n",
        "        [\n",
        "            [-119.70608227128903, 34.426300194372274],\n",
        "            [-119.70608227128903, 34.42041139020533],\n",
        "            [-119.6967885126002, 34.42041139020533],\n",
        "            [-119.6967885126002, 34.426300194372274],\n",
        "            [-119.70608227128903, 34.426300194372274]\n",
        "        ]\n",
        "    ],\n",
        "}\n",
        "\n",
        "# Catalog search\n",
        "search = catalog.search(\n",
        "    collections = ['naip'],\n",
        "    intersects = bbox,\n",
        "    datetime = time_range)\n",
        "search"
      ],
      "execution_count": null,
      "outputs": []
    },
    {
      "cell_type": "markdown",
      "metadata": {},
      "source": [
        "To get the items found in the search (or check if there were any matches in the search) we use the `item_collection()` method:"
      ]
    },
    {
      "cell_type": "code",
      "metadata": {},
      "source": [
        "# Retrieve search items\n",
        "items = search.item_collection()\n",
        "len(items)"
      ],
      "execution_count": null,
      "outputs": []
    },
    {
      "cell_type": "markdown",
      "metadata": {},
      "source": [
        "This output tells us there were three items in the catalog that matched our search!"
      ]
    },
    {
      "cell_type": "code",
      "metadata": {},
      "source": [
        "items"
      ],
      "execution_count": null,
      "outputs": []
    },
    {
      "cell_type": "markdown",
      "metadata": {},
      "source": [
        "## Item\n",
        "<!--https://pystac.readthedocs.io/en/stable/api/pystac.html#pystac.Item-->\n",
        "Let's get the first item in the search:"
      ]
    },
    {
      "cell_type": "code",
      "metadata": {},
      "source": [
        "# Get first item in the catalog search\n",
        "item = items[0]\n",
        "type(item)"
      ],
      "execution_count": null,
      "outputs": []
    },
    {
      "cell_type": "markdown",
      "metadata": {},
      "source": [
        "Remember the [STAC item](https://pystac.readthedocs.io/en/stable/api/pystac.html#pystac.Item) is the core object in a STAC catalog. \n",
        "The item does not contain the data itself, but rather metadata and assets that contain links to access the actual data.\n",
        "Some of the metadata:"
      ]
    },
    {
      "cell_type": "code",
      "metadata": {},
      "source": [
        "# Print item ID and properties\n",
        "print('ID:' , item.id)\n",
        "item.properties"
      ],
      "execution_count": null,
      "outputs": []
    },
    {
      "cell_type": "markdown",
      "metadata": {},
      "source": [
        "Just as the item properties, the item assets are given in a dictionary, with each value being a [`pystac.asset`](https://pystac.readthedocs.io/en/stable/api/asset.html)\n",
        "Let's check the assets in the `item`:"
      ]
    },
    {
      "cell_type": "code",
      "metadata": {},
      "source": [
        "item.assets"
      ],
      "execution_count": null,
      "outputs": []
    },
    {
      "cell_type": "code",
      "metadata": {},
      "source": [
        "for key in item.assets.keys():\n",
        "    print(key, '--', item.assets[key].title)"
      ],
      "execution_count": null,
      "outputs": []
    },
    {
      "cell_type": "markdown",
      "metadata": {},
      "source": [
        "Notice each asset has an `href`, which is a link to the data. \n",
        "For example, we can use the URL for the `'rendered_preview'` asset to plot it:"
      ]
    },
    {
      "cell_type": "code",
      "metadata": {},
      "source": [
        "# Plot rendered preview\n",
        "Image(url=item.assets['rendered_preview'].href, width=500)"
      ],
      "execution_count": null,
      "outputs": []
    },
    {
      "cell_type": "markdown",
      "metadata": {},
      "source": [
        "## Load data\n",
        "The raster data in our current `item` is in the `image` asset. \n",
        "Again, we access this data via its URL. \n",
        "This time, we open it using `rioxr.open_rasterio()` directly:"
      ]
    },
    {
      "cell_type": "code",
      "metadata": {},
      "source": [
        "sb = rioxr.open_rasterio(item.assets['image'].href)\n",
        "sb"
      ],
      "execution_count": null,
      "outputs": []
    },
    {
      "cell_type": "markdown",
      "metadata": {},
      "source": [
        "Notice this raster has four bands (red, green, blue, nir), so we cannot use the `.plot.imshow()` method directly (as this function only works when we have three bands). \n",
        "Thus we need select the bands we want to plot (RGB) before plotting:"
      ]
    },
    {
      "cell_type": "code",
      "metadata": {},
      "source": [
        "#| eval: false\n",
        "# Plot raster with correct ratio\n",
        "size = 6  \n",
        "aspect = sb.rio.width / sb.rio.height \n",
        "# Select R,G,B bands and plot\n",
        "sb.sel(band=[1,2,3]).plot.imshow(size=size, aspect=aspect)"
      ],
      "execution_count": null,
      "outputs": []
    },
    {
      "cell_type": "markdown",
      "metadata": {},
      "source": [
        "![](/book/images/lesson-16/sb-from-stac-item.png){width=\"70%\"}\n",
        "\n",
        ":::{.callout-tip}\n",
        "## Exercise\n",
        "The `'cop-dem-glo-90'` collection contains the Copernicus Digital Elevation Model (DEM) at 90m resolution data. \n",
        "\n",
        "1) Reuse the `bbox` for Santa Barbara to look for items in this collection. \n",
        "2) Get the first item in the search and examine its assets.\n",
        "3) Check the item's rendered preview asset by clicking on it's URL.\n",
        "4) Open and plot the item's data using `rioxarray`.\n",
        "5) Obtain the maximum and minimum elevation on the scene as *numbers*. \n",
        "6) Print the maximum and minimum elevation [rounded to two decimal points using f-strings](https://stackoverflow.com/questions/46062105/rounding-floats-with-f-string). \n",
        ":::\n",
        "\n",
        "\n",
        "<!--\n",
        "## Exercise\n",
        "Recreate the following image, where the red rectangle shows the bounding box used to do the catalog search. \n",
        "HINT: `bbox` as it is now is a dictionary. How can you get the vertices list out of it to first create a `shapely` `Polygon`?\n",
        "\n",
        "![](/book/images/lesson-16/sb-and-aoi-mpc.png)\n"
      ]
    },
    {
      "cell_type": "code",
      "metadata": {},
      "source": [
        "#| eval: false\n",
        "#| \n",
        "aoi = gpd.GeoDataFrame(geometry=[Polygon(bbox['coordinates'][0])],\n",
        "                crs='epsg:4326')\n",
        "aoi.plot()"
      ],
      "execution_count": null,
      "outputs": []
    },
    {
      "cell_type": "code",
      "metadata": {},
      "source": [
        "#| eval: false\n",
        "#| \n",
        "# reproject aoi to rgb crs\n",
        "aoi = aoi.to_crs(sb.rio.crs)\n",
        "print('matched crs?',  aoi.crs == sb.rio.crs)\n",
        "aoi.crs"
      ],
      "execution_count": null,
      "outputs": []
    },
    {
      "cell_type": "code",
      "metadata": {},
      "source": [
        "#| eval: false\n",
        "#| \n",
        "fig, ax = plt.subplots()\n",
        "\n",
        "size = 6 # height in in of plot height\n",
        "aspect = sb.rio.width / sb.rio.height # ratio of widht/height\n",
        "fig.set_size_inches((size, size*aspect)) # reuse size and aspect\n",
        "\n",
        "sb.sel(band=[1,2,3]).plot.imshow(ax=ax)\n",
        "aoi.plot(ax=ax, color='red', alpha=0.6)"
      ],
      "execution_count": null,
      "outputs": []
    },
    {
      "cell_type": "markdown",
      "metadata": {},
      "source": [
        "-->\n",
        "\n",
        "\n",
        "## References\n",
        "STAC Documentation:\n",
        "\n",
        "- [The STAC Specification](https://stacspec.org/en/tutorials/intro-to-stac/)\n",
        "\n",
        "- [Read a STAC Catalog Using PySTAC](https://stacspec.org/en/tutorials/1-read-stac-python/)\n",
        "\n",
        "[Microsoft Planetary Computer Documentation - Reading Data from the STAC API](https://planetarycomputer.microsoft.com/docs/quickstarts/reading-stac/)\n",
        "\n",
        "<!-- https://planetarycomputer.microsoft.com/docs/tutorials/hurricane-florence-animation/\n",
        "\n",
        "Idea for homework:\n",
        "\n",
        "https://planetarycomputer.microsoft.com/dataset/io-biodiversity#Example-Notebook\n",
        "\n",
        "-->\n",
        "\n",
        "<!--\n",
        "An easy way to obtain coordinates for such a region:\n",
        "\n",
        "![Screenshot from geojson.io](/images/geojsonio-sb.png)\n",
        "\n",
        "1. go to  [https://geojson.io/](https://geojson.io/) website,\n",
        "2. zoom in until you find the NCEAS building in Santa Barbara, it might help to change to 'Satellite Streets' view on the bottom left corner, \n",
        "3. click on the rectangle icon on the right-side toolbar and draw a small region around the NCEAS buildng,\n",
        "4. the geoJSON code representing this area will appear in the code box,\n",
        "5. one option is two copy-paste this geoJSON into an empty text file and save such file with the .json extension, we could then read it in using `geopandas`\n",
        "6. instead, we will create our region of index by just *copy-pasting the list of points* and storing it as a variable:"
      ]
    },
    {
      "cell_type": "code",
      "metadata": {},
      "source": [
        "# vertices of our aoi box\n",
        "points = [[-119.70608227128903, 34.426300194372274],\n",
        "          [-119.70608227128903, 34.42041139020533],\n",
        "          [-119.6967885126002, 34.42041139020533],\n",
        "          [-119.6967885126002, 34.426300194372274],\n",
        "          [-119.70608227128903, 34.426300194372274]]"
      ],
      "execution_count": null,
      "outputs": []
    },
    {
      "cell_type": "markdown",
      "metadata": {},
      "source": [
        "We can then create a new `geopandas.GeoDataFrame`:"
      ]
    },
    {
      "cell_type": "code",
      "metadata": {},
      "source": [
        "# create geodataframe with aoi \n",
        "aoi = gpd.GeoDataFrame(geometry=[Polygon(points)],\n",
        "                           crs='epsg:4326')\n",
        "aoi"
      ],
      "execution_count": null,
      "outputs": []
    },
    {
      "cell_type": "markdown",
      "metadata": {},
      "source": [
        "Let's break this down a bit:\n",
        "\n",
        "- first, we use the `shapely`'s `Polygon()` function to create a polygon from our `points` list. \n",
        "- in `[Polygon(points)]` we put this polygon inside a list so we can form the geometry column of our new `gpd.GeoDataFrame`\n",
        "- we know all the geoJSON files have CRS equal to EPSG:4326/WGS 84, so we set the the CRS of our new `gpd.GeoDataFrame` to this.\n",
        "-->"
      ]
    }
  ],
  "metadata": {
    "kernelspec": {
      "name": "mpc-env-kernel",
      "language": "python",
      "display_name": "mpc-env-kernel",
      "path": "/Users/galaz-garcia/Library/Jupyter/kernels/mpc-env-kernel"
    }
  },
  "nbformat": 4,
  "nbformat_minor": 4
}