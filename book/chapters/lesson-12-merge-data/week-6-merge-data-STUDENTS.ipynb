{
  "cells": [
    {
      "cell_type": "markdown",
      "metadata": {},
      "source": [
        "<!--\n",
        "Ignore ShapelyDeprecationWarning warning in render"
      ]
    },
    {
      "cell_type": "markdown",
      "metadata": {},
      "source": [
        "# 11 Reprojecting\n",
        "\n",
        "In this section we will learn how to join dataframes and will apply this to creating a [choropleth map](https://en.wikipedia.org/wiki/Choropleth_map) with `geopandas`.\n",
        "\n",
        "## About the data\n",
        "\n",
        "The first dataset we will use is a [list of Arctic communities and their location](https://search.dataone.org/view/doi%3A10.18739%2FA28S4JQ80) @brook_approximate_2023 created by the [Alaska Native Tribal Health Consortium](https://www.anthc.org). This data comess in GeoJSON file with the following attributes:\n",
        "\n",
        "- **name**: name of Arctic community, \n",
        "- **population**: population of Arctic community, as of 2022\n",
        "- **country**: country that the Arctic community falls within (see dataset metadata for the codes)\n",
        "- **geoname-id**: numeric codes that uniquely identify all administrative/legal and statistical geographic areas for which the Census Bureau tabulates data\n",
        "\n",
        "The second dataset is [Natural Earth's medium scale  cultural boundaries data for countries (1:50m)](https://www.naturalearthdata.com/downloads/50m-cultural-vectors/). \n",
        "We can obtain this dataset by downloading the shapefile. \n",
        "[Natural Earth](https://www.naturalearthdata.com) is a public domain dataset with ready-to-use data for creating maps. \n",
        "\n",
        "## Import data\n",
        "\n",
        "We will first import the countries shapefile and adapt it for wrangling purposes:"
      ]
    },
    {
      "cell_type": "code",
      "execution_count": null,
      "metadata": {},
      "outputs": [],
      "source": [
        "import os\n",
        "import pandas as pd\n",
        "import matplotlib.pyplot as plt\n",
        "import geopandas as gpd\n",
        "\n",
        "# Import countries polygons\n",
        "fp = os.path.join('data', 'ne_50m_admin_0_countries', 'ne_50m_admin_0_countries.shp')\n",
        "countries = gpd.read_file(fp)\n",
        "\n",
        "# Simplify column names\n",
        "countries.columns = countries.columns.str.lower()\n",
        "\n",
        "# Select columns for analysis\n",
        "countries = countries[['admin', 'type', 'geometry']]\n",
        "\n",
        "countries.head()"
      ]
    },
    {
      "cell_type": "code",
      "execution_count": null,
      "metadata": {},
      "outputs": [],
      "source": [
        "# Import Arctic communities data\n",
        "URL = 'https://cn.dataone.org/cn/v2/resolve/urn%3Auuid%3Aed7718ae-fb0d-43dd-9270-fbfe80bfc7a4'\n",
        "communities = gpd.read_file(URL)\n",
        "\n",
        "communities.head()"
      ]
    }
  ],
  "metadata": {
    "kernelspec": {
      "display_name": "Python 3.11.4 ('eds220-env')",
      "language": "python",
      "name": "python3"
    },
    "language_info": {
      "name": "python",
      "version": "3.11.4"
    },
    "vscode": {
      "interpreter": {
        "hash": "0f97f47f74ab0b040131b6681dd542ab9cd7e1dcd971bc09e899dabc517362fa"
      }
    }
  },
  "nbformat": 4,
  "nbformat_minor": 4
}
